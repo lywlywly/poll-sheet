{
 "cells": [
  {
   "cell_type": "markdown",
   "source": [
    "# Manipulating data from API in the frontend\n",
    "\n",
    "use Python as demo"
   ],
   "metadata": {
    "collapsed": false
   }
  },
  {
   "cell_type": "code",
   "execution_count": 1,
   "outputs": [],
   "source": [
    "# http://127.0.0.1:8000/api/entry/\n",
    "entries = [\n",
    "    {\n",
    "        \"id\": 1,\n",
    "        \"computed\": 10,\n",
    "        \"text\": \"Content\",\n",
    "        \"entry_score\": 0,\n",
    "        \"group_id\": 1\n",
    "    },\n",
    "    {\n",
    "        \"id\": 2,\n",
    "        \"computed\": 4,\n",
    "        \"text\": \"Delivery\",\n",
    "        \"entry_score\": 0,\n",
    "        \"group_id\": 1\n",
    "    },\n",
    "    {\n",
    "        \"id\": 3,\n",
    "        \"computed\": 5,\n",
    "        \"text\": \"Content\",\n",
    "        \"entry_score\": 0,\n",
    "        \"group_id\": 2\n",
    "    },\n",
    "    {\n",
    "        \"id\": 4,\n",
    "        \"computed\": 0,\n",
    "        \"text\": \"Delivery\",\n",
    "        \"entry_score\": 0,\n",
    "        \"group_id\": 2\n",
    "    },\n",
    "    {\n",
    "        \"id\": 5,\n",
    "        \"computed\": 0,\n",
    "        \"text\": \"Content\",\n",
    "        \"entry_score\": 0,\n",
    "        \"group_id\": 3\n",
    "    },\n",
    "    {\n",
    "        \"id\": 6,\n",
    "        \"computed\": 0,\n",
    "        \"text\": \"Delivery\",\n",
    "        \"entry_score\": 0,\n",
    "        \"group_id\": 3\n",
    "    },\n",
    "    {\n",
    "        \"id\": 7,\n",
    "        \"computed\": 0,\n",
    "        \"text\": \"Content\",\n",
    "        \"entry_score\": 0,\n",
    "        \"group_id\": 4\n",
    "    },\n",
    "    {\n",
    "        \"id\": 8,\n",
    "        \"computed\": 5,\n",
    "        \"text\": \"Delivery\",\n",
    "        \"entry_score\": 0,\n",
    "        \"group_id\": 4\n",
    "    }\n",
    "]"
   ],
   "metadata": {
    "collapsed": false
   }
  },
  {
   "cell_type": "code",
   "execution_count": 2,
   "outputs": [],
   "source": [
    "# http://127.0.0.1:8000/api/choice/\n",
    "choices = [\n",
    "    {\n",
    "        \"id\": 1,\n",
    "        \"text\": \"1\",\n",
    "        \"poll_id\": 1\n",
    "    },\n",
    "    {\n",
    "        \"id\": 2,\n",
    "        \"text\": \"2\",\n",
    "        \"poll_id\": 1\n",
    "    },\n",
    "    {\n",
    "        \"id\": 3,\n",
    "        \"text\": \"3\",\n",
    "        \"poll_id\": 1\n",
    "    },\n",
    "    {\n",
    "        \"id\": 4,\n",
    "        \"text\": \"4\",\n",
    "        \"poll_id\": 1\n",
    "    },\n",
    "    {\n",
    "        \"id\": 5,\n",
    "        \"text\": \"5\",\n",
    "        \"poll_id\": 1\n",
    "    },\n",
    "    {\n",
    "        \"id\": 6,\n",
    "        \"text\": \"1\",\n",
    "        \"poll_id\": 2\n",
    "    },\n",
    "    {\n",
    "        \"id\": 7,\n",
    "        \"text\": \"2\",\n",
    "        \"poll_id\": 2\n",
    "    },\n",
    "    {\n",
    "        \"id\": 8,\n",
    "        \"text\": \"3\",\n",
    "        \"poll_id\": 2\n",
    "    },\n",
    "    {\n",
    "        \"id\": 9,\n",
    "        \"text\": \"4\",\n",
    "        \"poll_id\": 2\n",
    "    },\n",
    "    {\n",
    "        \"id\": 10,\n",
    "        \"text\": \"5\",\n",
    "        \"poll_id\": 2\n",
    "    },\n",
    "    {\n",
    "        \"id\": 11,\n",
    "        \"text\": \"1\",\n",
    "        \"poll_id\": 3\n",
    "    },\n",
    "    {\n",
    "        \"id\": 12,\n",
    "        \"text\": \"2\",\n",
    "        \"poll_id\": 3\n",
    "    },\n",
    "    {\n",
    "        \"id\": 13,\n",
    "        \"text\": \"3\",\n",
    "        \"poll_id\": 3\n",
    "    },\n",
    "    {\n",
    "        \"id\": 14,\n",
    "        \"text\": \"4\",\n",
    "        \"poll_id\": 3\n",
    "    },\n",
    "    {\n",
    "        \"id\": 15,\n",
    "        \"text\": \"5\",\n",
    "        \"poll_id\": 3\n",
    "    },\n",
    "    {\n",
    "        \"id\": 16,\n",
    "        \"text\": \"1\",\n",
    "        \"poll_id\": 4\n",
    "    },\n",
    "    {\n",
    "        \"id\": 17,\n",
    "        \"text\": \"2\",\n",
    "        \"poll_id\": 4\n",
    "    },\n",
    "    {\n",
    "        \"id\": 18,\n",
    "        \"text\": \"3\",\n",
    "        \"poll_id\": 4\n",
    "    },\n",
    "    {\n",
    "        \"id\": 19,\n",
    "        \"text\": \"4\",\n",
    "        \"poll_id\": 4\n",
    "    },\n",
    "    {\n",
    "        \"id\": 20,\n",
    "        \"text\": \"5\",\n",
    "        \"poll_id\": 4\n",
    "    },\n",
    "    {\n",
    "        \"id\": 21,\n",
    "        \"text\": \"1\",\n",
    "        \"poll_id\": 5\n",
    "    },\n",
    "    {\n",
    "        \"id\": 22,\n",
    "        \"text\": \"2\",\n",
    "        \"poll_id\": 5\n",
    "    },\n",
    "    {\n",
    "        \"id\": 23,\n",
    "        \"text\": \"3\",\n",
    "        \"poll_id\": 5\n",
    "    },\n",
    "    {\n",
    "        \"id\": 24,\n",
    "        \"text\": \"4\",\n",
    "        \"poll_id\": 5\n",
    "    },\n",
    "    {\n",
    "        \"id\": 25,\n",
    "        \"text\": \"5\",\n",
    "        \"poll_id\": 5\n",
    "    },\n",
    "    {\n",
    "        \"id\": 26,\n",
    "        \"text\": \"1\",\n",
    "        \"poll_id\": 6\n",
    "    },\n",
    "    {\n",
    "        \"id\": 27,\n",
    "        \"text\": \"2\",\n",
    "        \"poll_id\": 6\n",
    "    },\n",
    "    {\n",
    "        \"id\": 28,\n",
    "        \"text\": \"3\",\n",
    "        \"poll_id\": 6\n",
    "    },\n",
    "    {\n",
    "        \"id\": 29,\n",
    "        \"text\": \"4\",\n",
    "        \"poll_id\": 6\n",
    "    },\n",
    "    {\n",
    "        \"id\": 30,\n",
    "        \"text\": \"5\",\n",
    "        \"poll_id\": 6\n",
    "    },\n",
    "    {\n",
    "        \"id\": 31,\n",
    "        \"text\": \"1\",\n",
    "        \"poll_id\": 7\n",
    "    },\n",
    "    {\n",
    "        \"id\": 32,\n",
    "        \"text\": \"2\",\n",
    "        \"poll_id\": 7\n",
    "    },\n",
    "    {\n",
    "        \"id\": 33,\n",
    "        \"text\": \"3\",\n",
    "        \"poll_id\": 7\n",
    "    },\n",
    "    {\n",
    "        \"id\": 34,\n",
    "        \"text\": \"4\",\n",
    "        \"poll_id\": 7\n",
    "    },\n",
    "    {\n",
    "        \"id\": 35,\n",
    "        \"text\": \"5\",\n",
    "        \"poll_id\": 7\n",
    "    },\n",
    "    {\n",
    "        \"id\": 36,\n",
    "        \"text\": \"1\",\n",
    "        \"poll_id\": 8\n",
    "    },\n",
    "    {\n",
    "        \"id\": 37,\n",
    "        \"text\": \"2\",\n",
    "        \"poll_id\": 8\n",
    "    },\n",
    "    {\n",
    "        \"id\": 38,\n",
    "        \"text\": \"3\",\n",
    "        \"poll_id\": 8\n",
    "    },\n",
    "    {\n",
    "        \"id\": 39,\n",
    "        \"text\": \"4\",\n",
    "        \"poll_id\": 8\n",
    "    },\n",
    "    {\n",
    "        \"id\": 40,\n",
    "        \"text\": \"5\",\n",
    "        \"poll_id\": 8\n",
    "    }\n",
    "]"
   ],
   "metadata": {
    "collapsed": false
   }
  },
  {
   "cell_type": "markdown",
   "source": [
    "### Get grouped entries\n",
    "#### The two cells below are equivalent"
   ],
   "metadata": {
    "collapsed": false
   }
  },
  {
   "cell_type": "code",
   "execution_count": 3,
   "outputs": [],
   "source": [
    "new = {}\n",
    "for _ in entries:\n",
    "    # use `get()` to save the trouble for empty test\n",
    "    new[_[\"group_id\"]] = new.get(_[\"group_id\"]) or []\n",
    "    new[_[\"group_id\"]].append(_)"
   ],
   "metadata": {
    "collapsed": false
   }
  },
  {
   "cell_type": "code",
   "execution_count": 6,
   "outputs": [
    {
     "data": {
      "text/plain": "{1: [{'id': 1,\n   'computed': 10,\n   'text': 'Content',\n   'entry_score': 0,\n   'group_id': 1},\n  {'id': 2,\n   'computed': 4,\n   'text': 'Delivery',\n   'entry_score': 0,\n   'group_id': 1}],\n 2: [{'id': 3,\n   'computed': 5,\n   'text': 'Content',\n   'entry_score': 0,\n   'group_id': 2},\n  {'id': 4,\n   'computed': 0,\n   'text': 'Delivery',\n   'entry_score': 0,\n   'group_id': 2}],\n 3: [{'id': 5,\n   'computed': 0,\n   'text': 'Content',\n   'entry_score': 0,\n   'group_id': 3},\n  {'id': 6,\n   'computed': 0,\n   'text': 'Delivery',\n   'entry_score': 0,\n   'group_id': 3}],\n 4: [{'id': 7,\n   'computed': 0,\n   'text': 'Content',\n   'entry_score': 0,\n   'group_id': 4},\n  {'id': 8,\n   'computed': 5,\n   'text': 'Delivery',\n   'entry_score': 0,\n   'group_id': 4}]}"
     },
     "execution_count": 6,
     "metadata": {},
     "output_type": "execute_result"
    }
   ],
   "source": [
    "from functools import reduce\n",
    "\n",
    "def r(a, x):\n",
    "    a[x[\"group_id\"]] = a.get(x[\"group_id\"]) or []\n",
    "    a[x[\"group_id\"]].append(x)\n",
    "    return a\n",
    "\n",
    "\n",
    "redd = reduce(r, entries, {})\n",
    "redd"
   ],
   "metadata": {
    "collapsed": false
   }
  },
  {
   "cell_type": "code",
   "execution_count": 5,
   "outputs": [
    {
     "data": {
      "text/plain": "True"
     },
     "execution_count": 5,
     "metadata": {},
     "output_type": "execute_result"
    }
   ],
   "source": [
    "new == redd"
   ],
   "metadata": {
    "collapsed": false
   }
  },
  {
   "cell_type": "markdown",
   "source": [
    "#### The frontend first create an object to store information of entries"
   ],
   "metadata": {
    "collapsed": false
   }
  },
  {
   "cell_type": "code",
   "execution_count": 7,
   "outputs": [],
   "source": [
    "def r(a, x):\n",
    "    a[x[\"group_id\"]] = a.get(x[\"group_id\"]) or []\n",
    "    a[x[\"group_id\"]].append({\"id\": x[\"id\"], \"text\": x[\"text\"], \"group_id\": x[\"group_id\"]})\n",
    "\n",
    "    return a\n",
    "\n",
    "\n",
    "raw = reduce(r, entries, {})"
   ],
   "metadata": {
    "collapsed": false
   }
  },
  {
   "cell_type": "markdown",
   "source": [
    "### The frontend create the form based on an object below"
   ],
   "metadata": {
    "collapsed": false
   }
  },
  {
   "cell_type": "code",
   "execution_count": 8,
   "outputs": [
    {
     "data": {
      "text/plain": "{1: [{'id': 1, 'text': 'Content', 'group_id': 1},\n  {'id': 2, 'text': 'Delivery', 'group_id': 1}],\n 2: [{'id': 3, 'text': 'Content', 'group_id': 2},\n  {'id': 4, 'text': 'Delivery', 'group_id': 2}],\n 3: [{'id': 5, 'text': 'Content', 'group_id': 3},\n  {'id': 6, 'text': 'Delivery', 'group_id': 3}],\n 4: [{'id': 7, 'text': 'Content', 'group_id': 4},\n  {'id': 8, 'text': 'Delivery', 'group_id': 4}]}"
     },
     "execution_count": 8,
     "metadata": {},
     "output_type": "execute_result"
    }
   ],
   "source": [
    "raw"
   ],
   "metadata": {
    "collapsed": false
   }
  },
  {
   "cell_type": "markdown",
   "source": [],
   "metadata": {
    "collapsed": false
   }
  },
  {
   "cell_type": "code",
   "execution_count": 9,
   "outputs": [
    {
     "data": {
      "text/plain": "{'id': 1, 'text': 'Content', 'group_id': 1, 'score': 5}"
     },
     "execution_count": 9,
     "metadata": {},
     "output_type": "execute_result"
    }
   ],
   "source": [
    "entry = list(filter(lambda x: x[\"text\"] == 'Content', raw[1]))[0]\n",
    "entry[\"score\"] = 5\n",
    "entry"
   ],
   "metadata": {
    "collapsed": false
   }
  },
  {
   "cell_type": "code",
   "execution_count": 25,
   "outputs": [],
   "source": [
    "raw_updated = {1: [{'id': 1, 'text': 'Content', 'group_id': 1, 'score': 5},\n",
    "                   {'id': 2, 'text': 'Delivery', 'group_id': 1, 'score': 5}],\n",
    "               2: [{'id': 3, 'text': 'Content', 'group_id': 2, 'score': 2},\n",
    "                   {'id': 4, 'text': 'Delivery', 'group_id': 2, 'score': 5}],\n",
    "               3: [{'id': 5, 'text': 'Content', 'group_id': 3, 'score': 4},\n",
    "                   {'id': 6, 'text': 'Delivery', 'group_id': 3, 'score': 5}],\n",
    "               4: [{'id': 7, 'text': 'Content', 'group_id': 4, 'score': 5},\n",
    "                   {'id': 8, 'text': 'Delivery', 'group_id': 4, 'score': 1}]}"
   ],
   "metadata": {
    "collapsed": false
   }
  },
  {
   "cell_type": "markdown",
   "source": [
    "### from raw to post"
   ],
   "metadata": {
    "collapsed": false
   }
  },
  {
   "cell_type": "code",
   "execution_count": 16,
   "outputs": [],
   "source": [
    "# TODO:check integrity"
   ],
   "metadata": {
    "collapsed": false
   }
  },
  {
   "cell_type": "code",
   "execution_count": 17,
   "outputs": [],
   "source": [
    "find_choice_id = lambda e, v: lambda x: x[\"poll_id\"] == e and x[\"text\"] == v\n",
    "# find_choice_id = (e, v) => x => x[\"poll_id\"] == e && x[\"text\"] == v"
   ],
   "metadata": {
    "collapsed": false
   }
  },
  {
   "cell_type": "code",
   "execution_count": 19,
   "outputs": [
    {
     "data": {
      "text/plain": "[{'id': 14, 'text': '4', 'poll_id': 3}]"
     },
     "execution_count": 19,
     "metadata": {},
     "output_type": "execute_result"
    }
   ],
   "source": [
    "list(filter(find_choice_id(3, \"4\"), choices))\n",
    "# choices.filter(find_choice_id(2, 2))"
   ],
   "metadata": {
    "collapsed": false
   }
  },
  {
   "cell_type": "code",
   "execution_count": 21,
   "outputs": [
    {
     "data": {
      "text/plain": "[{'entry': 1, 'score': 5, 'choice': 7}]"
     },
     "execution_count": 21,
     "metadata": {},
     "output_type": "execute_result"
    }
   ],
   "source": [
    "post = []\n",
    "post.append({\"entry\": raw_updated[1][0]['id'], \"score\": raw_updated[1][0]['score'], \"choice\": list(filter(find_choice_id(2, \"2\"), choices))[0][\"id\"]})\n",
    "post"
   ],
   "metadata": {
    "collapsed": false
   }
  },
  {
   "cell_type": "code",
   "execution_count": 26,
   "outputs": [
    {
     "data": {
      "text/plain": "[{'entry': 1, 'score': 5, 'choice': 5},\n {'entry': 2, 'score': 5, 'choice': 10},\n {'entry': 3, 'score': 2, 'choice': 12},\n {'entry': 4, 'score': 5, 'choice': 20},\n {'entry': 5, 'score': 4, 'choice': 24},\n {'entry': 6, 'score': 5, 'choice': 30},\n {'entry': 7, 'score': 5, 'choice': 35},\n {'entry': 8, 'score': 1, 'choice': 36}]"
     },
     "execution_count": 26,
     "metadata": {},
     "output_type": "execute_result"
    }
   ],
   "source": [
    "post = []\n",
    "for _ in raw_updated:\n",
    "    for vote in raw_updated[_]:\n",
    "        post.append({\"entry\": vote['id'], \"score\": vote['score'], \"choice\": list(filter(find_choice_id(vote['id'], str(vote['score'])), choices))[0][\"id\"]})\n",
    "\n",
    "post"
   ],
   "metadata": {
    "collapsed": false
   }
  },
  {
   "cell_type": "code",
   "execution_count": null,
   "outputs": [],
   "source": [],
   "metadata": {
    "collapsed": false
   }
  }
 ],
 "metadata": {
  "kernelspec": {
   "display_name": "Python 3",
   "language": "python",
   "name": "python3"
  },
  "language_info": {
   "codemirror_mode": {
    "name": "ipython",
    "version": 2
   },
   "file_extension": ".py",
   "mimetype": "text/x-python",
   "name": "python",
   "nbconvert_exporter": "python",
   "pygments_lexer": "ipython2",
   "version": "2.7.6"
  }
 },
 "nbformat": 4,
 "nbformat_minor": 0
}
